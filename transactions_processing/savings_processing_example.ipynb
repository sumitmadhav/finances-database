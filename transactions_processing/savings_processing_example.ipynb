{
 "cells": [
  {
   "cell_type": "markdown",
   "id": "3556274d-c089-44db-8713-36bf6def1a1a",
   "metadata": {
    "tags": []
   },
   "source": [
    "# Sample Savings Transactions Processing and Loading\n",
    "Below is an example of how transactions from my savings account are transformed into a format that\n",
    "can be loaded into the \"spend_save\" database, then loaded into the database. May 2023 transactions are loaded\n",
    "and processed in this example. Due to the sensitive nature of this data, any amounts have been changed\n",
    "to a random number and any sensitive material (such as bank account numbers) have been removed. However,\n",
    "this data still closely resembles real transactions.\n",
    "\n",
    "This example will show the input transactions CSV file, the output DataFrames generated via the \"savings_file_cleanup\" function, and how the data is loaded into the database using the \"to_spend_save\" function. To see the details of the functions, view [transactions_cleanining_functions](transactions_cleaning_functions.py)\n",
    "and navigate to the desired function."
   ]
  },
  {
   "cell_type": "markdown",
   "id": "fc9da36d-fe47-483c-8b50-0197da61e176",
   "metadata": {},
   "source": [
    "## Input\n",
    "Input file in the form of CSV containing all May 2023 savings account transactions."
   ]
  },
  {
   "cell_type": "code",
   "execution_count": 1,
   "id": "7c405ef9-39ca-4d89-8682-48971b601973",
   "metadata": {},
   "outputs": [],
   "source": [
    "# Import function and needed packages\n",
    "import pandas as pd\n",
    "from transactions_processing_functions import savings_file_cleanup, to_spend_save"
   ]
  },
  {
   "cell_type": "code",
   "execution_count": 2,
   "id": "fd82a3ba-4766-4718-87bc-35d96fab00c2",
   "metadata": {},
   "outputs": [
    {
     "data": {
      "text/html": [
       "<div>\n",
       "<style scoped>\n",
       "    .dataframe tbody tr th:only-of-type {\n",
       "        vertical-align: middle;\n",
       "    }\n",
       "\n",
       "    .dataframe tbody tr th {\n",
       "        vertical-align: top;\n",
       "    }\n",
       "\n",
       "    .dataframe thead th {\n",
       "        text-align: right;\n",
       "    }\n",
       "</style>\n",
       "<table border=\"1\" class=\"dataframe\">\n",
       "  <thead>\n",
       "    <tr style=\"text-align: right;\">\n",
       "      <th></th>\n",
       "      <th>Details</th>\n",
       "      <th>Posting Date</th>\n",
       "      <th>Description</th>\n",
       "      <th>Amount</th>\n",
       "      <th>Type</th>\n",
       "      <th>Balance</th>\n",
       "      <th>Check or Slip #</th>\n",
       "    </tr>\n",
       "  </thead>\n",
       "  <tbody>\n",
       "    <tr>\n",
       "      <th>0</th>\n",
       "      <td>CREDIT</td>\n",
       "      <td>5/29/2023</td>\n",
       "      <td>Online Transfer from CHK ...0000 transaction#:...</td>\n",
       "      <td>527.00</td>\n",
       "      <td>ACCT_XFER</td>\n",
       "      <td>12345</td>\n",
       "      <td>NaN</td>\n",
       "    </tr>\n",
       "    <tr>\n",
       "      <th>1</th>\n",
       "      <td>CREDIT</td>\n",
       "      <td>5/25/2023</td>\n",
       "      <td>INTEREST PAYMENT</td>\n",
       "      <td>0.02</td>\n",
       "      <td>MISC_CREDIT</td>\n",
       "      <td>54321</td>\n",
       "      <td>NaN</td>\n",
       "    </tr>\n",
       "    <tr>\n",
       "      <th>2</th>\n",
       "      <td>CREDIT</td>\n",
       "      <td>5/10/2023</td>\n",
       "      <td>Online Transfer from ...CHK 0000 transaction#:...</td>\n",
       "      <td>589.00</td>\n",
       "      <td>ACCT_XFER</td>\n",
       "      <td>23456</td>\n",
       "      <td>NaN</td>\n",
       "    </tr>\n",
       "  </tbody>\n",
       "</table>\n",
       "</div>"
      ],
      "text/plain": [
       "  Details Posting Date                                        Description  \\\n",
       "0  CREDIT    5/29/2023  Online Transfer from CHK ...0000 transaction#:...   \n",
       "1  CREDIT    5/25/2023                                   INTEREST PAYMENT   \n",
       "2  CREDIT    5/10/2023  Online Transfer from ...CHK 0000 transaction#:...   \n",
       "\n",
       "   Amount         Type  Balance  Check or Slip #  \n",
       "0  527.00    ACCT_XFER    12345              NaN  \n",
       "1    0.02  MISC_CREDIT    54321              NaN  \n",
       "2  589.00    ACCT_XFER    23456              NaN  "
      ]
     },
     "execution_count": 2,
     "metadata": {},
     "output_type": "execute_result"
    }
   ],
   "source": [
    "# Raw input file extracted bank website\n",
    "input_csv = r\"C:\\Users\\weism\\OneDrive\\life stuff\\Personal Projects\\Personal Finance Database\\bank data\\saving_transactions_may2023.CSV\"\n",
    "pd.read_csv(input_csv, encoding='unicode_escape', index_col=False)"
   ]
  },
  {
   "cell_type": "markdown",
   "id": "b4e4feba-a245-4972-b531-9d1d24fb051a",
   "metadata": {},
   "source": [
    "## Processing\n",
    "Processing the input CSV file using savings_file_cleanup. The function takes a CSV file as an argument and produces two results: \"savings_df\" containing the transactions that were able to be automatically processed with the function, and \"savings_review_df\" which contains transactions needing manual review. The \"savings_review_df\" is printed by the function to show all transactions needing review."
   ]
  },
  {
   "cell_type": "code",
   "execution_count": 3,
   "id": "d5214bb6-9d77-4796-8b5d-afd3c7879849",
   "metadata": {},
   "outputs": [
    {
     "name": "stdout",
     "output_type": "stream",
     "text": [
      "Transactions successfully transformed.The following transactions need to be reviewed.Once values have been assigned to transaction_type_id and category_id (or a null category_id),use to_spend_save() to update database.\n",
      "Empty DataFrame\n",
      "Columns: [account_id, transaction_type_id, category_id, short_date, transaction_description, transaction_amount]\n",
      "Index: []\n"
     ]
    }
   ],
   "source": [
    "# Process the input CSV file using savings_file_cleanup\n",
    "savings_df, savings_review_df = savings_file_cleanup(input_csv)"
   ]
  },
  {
   "cell_type": "markdown",
   "id": "838f1283-d23d-4fbf-b381-48d68ba8857a",
   "metadata": {},
   "source": [
    "## Output\n",
    "See the output of \"savings_review_df\" and \"savings_df\" below. Since all transactions were able to be processed by the function,\n",
    "\"savings_review_df\" in empty. These transactions would be manually assigned a transaction_type_id and category_id (if necessary), then appended back to the \"savings_df\". In this circuststance, \"category_id\" is null for all since only purchases are given a category."
   ]
  },
  {
   "cell_type": "code",
   "execution_count": 4,
   "id": "667b3a79-d36e-4b29-9751-430d55fda25c",
   "metadata": {},
   "outputs": [
    {
     "data": {
      "text/html": [
       "<div>\n",
       "<style scoped>\n",
       "    .dataframe tbody tr th:only-of-type {\n",
       "        vertical-align: middle;\n",
       "    }\n",
       "\n",
       "    .dataframe tbody tr th {\n",
       "        vertical-align: top;\n",
       "    }\n",
       "\n",
       "    .dataframe thead th {\n",
       "        text-align: right;\n",
       "    }\n",
       "</style>\n",
       "<table border=\"1\" class=\"dataframe\">\n",
       "  <thead>\n",
       "    <tr style=\"text-align: right;\">\n",
       "      <th></th>\n",
       "      <th>account_id</th>\n",
       "      <th>transaction_type_id</th>\n",
       "      <th>category_id</th>\n",
       "      <th>short_date</th>\n",
       "      <th>transaction_description</th>\n",
       "      <th>transaction_amount</th>\n",
       "    </tr>\n",
       "  </thead>\n",
       "  <tbody>\n",
       "  </tbody>\n",
       "</table>\n",
       "</div>"
      ],
      "text/plain": [
       "Empty DataFrame\n",
       "Columns: [account_id, transaction_type_id, category_id, short_date, transaction_description, transaction_amount]\n",
       "Index: []"
      ]
     },
     "execution_count": 4,
     "metadata": {},
     "output_type": "execute_result"
    }
   ],
   "source": [
    "# Transactions needing review (if any)\n",
    "savings_review_df"
   ]
  },
  {
   "cell_type": "code",
   "execution_count": 5,
   "id": "bbf572ac-c2ed-4c1f-80e3-36b5d3ebbd43",
   "metadata": {},
   "outputs": [
    {
     "data": {
      "text/html": [
       "<div>\n",
       "<style scoped>\n",
       "    .dataframe tbody tr th:only-of-type {\n",
       "        vertical-align: middle;\n",
       "    }\n",
       "\n",
       "    .dataframe tbody tr th {\n",
       "        vertical-align: top;\n",
       "    }\n",
       "\n",
       "    .dataframe thead th {\n",
       "        text-align: right;\n",
       "    }\n",
       "</style>\n",
       "<table border=\"1\" class=\"dataframe\">\n",
       "  <thead>\n",
       "    <tr style=\"text-align: right;\">\n",
       "      <th></th>\n",
       "      <th>account_id</th>\n",
       "      <th>transaction_type_id</th>\n",
       "      <th>category_id</th>\n",
       "      <th>short_date</th>\n",
       "      <th>transaction_description</th>\n",
       "      <th>transaction_amount</th>\n",
       "    </tr>\n",
       "  </thead>\n",
       "  <tbody>\n",
       "    <tr>\n",
       "      <th>0</th>\n",
       "      <td>3</td>\n",
       "      <td>6</td>\n",
       "      <td>NaN</td>\n",
       "      <td>2023-05-29</td>\n",
       "      <td>online transfer from chk ...0000 transaction#:...</td>\n",
       "      <td>527.00</td>\n",
       "    </tr>\n",
       "    <tr>\n",
       "      <th>1</th>\n",
       "      <td>3</td>\n",
       "      <td>9</td>\n",
       "      <td>NaN</td>\n",
       "      <td>2023-05-25</td>\n",
       "      <td>interest payment</td>\n",
       "      <td>0.02</td>\n",
       "    </tr>\n",
       "    <tr>\n",
       "      <th>2</th>\n",
       "      <td>3</td>\n",
       "      <td>6</td>\n",
       "      <td>NaN</td>\n",
       "      <td>2023-05-10</td>\n",
       "      <td>online transfer from ...chk 0000 transaction#:...</td>\n",
       "      <td>589.00</td>\n",
       "    </tr>\n",
       "  </tbody>\n",
       "</table>\n",
       "</div>"
      ],
      "text/plain": [
       "   account_id  transaction_type_id  category_id short_date  \\\n",
       "0           3                    6          NaN 2023-05-29   \n",
       "1           3                    9          NaN 2023-05-25   \n",
       "2           3                    6          NaN 2023-05-10   \n",
       "\n",
       "                             transaction_description  transaction_amount  \n",
       "0  online transfer from chk ...0000 transaction#:...              527.00  \n",
       "1                                   interest payment                0.02  \n",
       "2  online transfer from ...chk 0000 transaction#:...              589.00  "
      ]
     },
     "execution_count": 5,
     "metadata": {},
     "output_type": "execute_result"
    }
   ],
   "source": [
    "# Transactions that were able to be processed automatically\n",
    "savings_df"
   ]
  },
  {
   "cell_type": "code",
   "execution_count": 6,
   "id": "fdaad923-2ce0-4ecc-a1dd-26f2e6855d85",
   "metadata": {},
   "outputs": [],
   "source": [
    "# savings_review_df would be updated manually and appended to savings_df for loading into database\n",
    "savings_df = pd.concat([savings_df, savings_review_df])"
   ]
  },
  {
   "cell_type": "markdown",
   "id": "5dae2b7e-0a5a-4610-8f14-3405e40ae78f",
   "metadata": {},
   "source": [
    "## Loading Data into Database"
   ]
  },
  {
   "cell_type": "markdown",
   "id": "6ae02c2d-6dd2-446b-b2c6-1e78a50f6577",
   "metadata": {},
   "source": [
    "After manually processing any data in \"savings_review_df\", savings_review_df is appended to \"savings_df\" and then loaded into the database\n",
    "using \"to_spend_save\". This function connects and loads the DataFrame into the \"spend_save\" database using sqlalchemy. The function's argument include:\n",
    "1. **df** (pandas.DataFrame): A DataFrame to be loaded into the database\n",
    "2. **data_source** (str): The name of the data source (savings, checking, or credit card data)\n",
    "3. **password** (str): The password of the MySQL database server\n",
    "\n",
    "Once the data has been successfully loaded into the database, a CSV containing the loaded data is saved as backup.\n",
    "\n",
    "Note: Database server password has been replaced with *** after running the below code."
   ]
  },
  {
   "cell_type": "code",
   "execution_count": 19,
   "id": "e95c722c-53f4-487c-a007-968df9f760ab",
   "metadata": {},
   "outputs": [
    {
     "name": "stdout",
     "output_type": "stream",
     "text": [
      "savings data successfully loaded into spend_save MySQL database\n",
      "csv file saved as savings_2023-06-19.csv\n"
     ]
    }
   ],
   "source": [
    "# Load data into spend_save\n",
    "to_spend_save(savings_df, \"***\", \"password\")"
   ]
  },
  {
   "attachments": {
    "3ab8049a-bd83-497f-8dad-f7b912f68b02.png": {
     "image/png": "[encoded data removed]"
    }
   },
   "cell_type": "markdown",
   "id": "e8fcad96-b973-4572-bce7-aa320cbced63",
   "metadata": {},
   "source": [
    "Transactions can now be seen in MySQL database\n",
    "\n",
    "![image.png](attachment:3ab8049a-bd83-497f-8dad-f7b912f68b02.png)"
   ]
  }
 ],
 "metadata": {
  "kernelspec": {
   "display_name": "Python 3 (ipykernel)",
   "language": "python",
   "name": "python3"
  },
  "language_info": {
   "codemirror_mode": {
    "name": "ipython",
    "version": 3
   },
   "file_extension": ".py",
   "mimetype": "text/x-python",
   "name": "python",
   "nbconvert_exporter": "python",
   "pygments_lexer": "ipython3",
   "version": "3.10.9"
  }
 },
 "nbformat": 4,
 "nbformat_minor": 5
}
